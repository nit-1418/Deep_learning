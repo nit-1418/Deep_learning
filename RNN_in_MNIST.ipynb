{
  "nbformat": 4,
  "nbformat_minor": 0,
  "metadata": {
    "colab": {
      "provenance": [],
      "authorship_tag": "ABX9TyO6ki8e6jZmjf2ZOEa9ClDO",
      "include_colab_link": true
    },
    "kernelspec": {
      "name": "python3",
      "display_name": "Python 3"
    },
    "language_info": {
      "name": "python"
    }
  },
  "cells": [
    {
      "cell_type": "markdown",
      "metadata": {
        "id": "view-in-github",
        "colab_type": "text"
      },
      "source": [
        "<a href=\"https://colab.research.google.com/github/nit-1418/Deep_learning/blob/main/RNN_in_MNIST.ipynb\" target=\"_parent\"><img src=\"https://colab.research.google.com/assets/colab-badge.svg\" alt=\"Open In Colab\"/></a>"
      ]
    },
    {
      "cell_type": "markdown",
      "source": [
        "While Recurrent Neural Networks (RNNs) excel at processing sequential data like language, they can be adapted for tasks like classifying the MNIST dataset of handwritten digits. This involves treating each row of pixels as a sequence fed into the RNN, allowing it to capture contextual information. However, simpler and more efficient architectures like Convolutional Neural Networks (CNNs) are generally preferred for MNIST due to their specialization in handling image data."
      ],
      "metadata": {
        "id": "hrRA7qOd5zVv"
      }
    },
    {
      "cell_type": "code",
      "execution_count": null,
      "metadata": {
        "id": "SY9DR1QTR4Oa"
      },
      "outputs": [],
      "source": [
        "import numpy as np\n",
        "import tensorflow as tf\n",
        "from keras.models import Sequential\n",
        "from keras.layers import Dense, Activation, SimpleRNN\n",
        "from keras.utils import to_categorical, plot_model\n",
        "from keras.datasets import mnist"
      ]
    },
    {
      "cell_type": "code",
      "source": [
        "# load mnist dataset\n",
        "(x_train,  y_train), (x_test, y_test) = mnist.load_data()"
      ],
      "metadata": {
        "colab": {
          "base_uri": "https://localhost:8080/"
        },
        "id": "a5xFyLNOStpt",
        "outputId": "81951a2c-f9a8-4249-ee95-14d63bc5448f"
      },
      "execution_count": null,
      "outputs": [
        {
          "output_type": "stream",
          "name": "stdout",
          "text": [
            "Downloading data from https://storage.googleapis.com/tensorflow/tf-keras-datasets/mnist.npz\n",
            "11490434/11490434 [==============================] - 0s 0us/step\n"
          ]
        }
      ]
    },
    {
      "cell_type": "code",
      "source": [
        "# compute the number of labels\n",
        "num_labels = len(np.unique(y_train))\n",
        "num_labels"
      ],
      "metadata": {
        "colab": {
          "base_uri": "https://localhost:8080/"
        },
        "id": "pN_7r2-ETLno",
        "outputId": "5d2dee63-38ec-442c-9a00-048c22befe37"
      },
      "execution_count": null,
      "outputs": [
        {
          "output_type": "execute_result",
          "data": {
            "text/plain": [
              "10"
            ]
          },
          "metadata": {},
          "execution_count": 4
        }
      ]
    },
    {
      "cell_type": "code",
      "source": [
        "# convert to one-hot vector\n",
        "y_train = to_categorical(y_train)\n",
        "y_test = to_categorical(y_test)"
      ],
      "metadata": {
        "id": "NOwz2dO4TeTn"
      },
      "execution_count": null,
      "outputs": []
    },
    {
      "cell_type": "code",
      "source": [
        "# resize and normilaze\n",
        "image_size = x_train.shape[1]\n",
        "x_train = np.reshape(x_train, [-1, image_size, image_size])\n",
        "x_test = np.reshape(x_test, [-1, image_size, image_size])\n",
        "x_train = x_train.astype('float32')/255\n",
        "x_test = x_test.astype('float32')/255"
      ],
      "metadata": {
        "id": "tHTfMY_HT2iC"
      },
      "execution_count": null,
      "outputs": []
    },
    {
      "cell_type": "code",
      "source": [
        "# network parameters\n",
        "input_shape = (image_size, image_size)\n",
        "batch_size = 128\n",
        "units = 256\n",
        "dropout = 0.2"
      ],
      "metadata": {
        "id": "6io34CNiUiAt"
      },
      "execution_count": null,
      "outputs": []
    },
    {
      "cell_type": "code",
      "source": [
        "# model is RNN with 256 units, input is 28-dim vector 28 timestamps\n",
        "model = Sequential()\n",
        "model.add(SimpleRNN(units = units,\n",
        "                    dropout = dropout,\n",
        "                    input_shape = input_shape))\n",
        "model.add(Dense(num_labels))\n",
        "model.add(Activation('softmax'))\n",
        "model.summary()\n",
        "plot_model(model, to_file='rnn-mnist.png', show_shapes=True)\n"
      ],
      "metadata": {
        "colab": {
          "base_uri": "https://localhost:8080/",
          "height": 696
        },
        "id": "DsSrnvrGU3sz",
        "outputId": "29770d35-c67c-4668-b0b8-c2eb1e57fb7e"
      },
      "execution_count": null,
      "outputs": [
        {
          "output_type": "stream",
          "name": "stdout",
          "text": [
            "Model: \"sequential_1\"\n",
            "_________________________________________________________________\n",
            " Layer (type)                Output Shape              Param #   \n",
            "=================================================================\n",
            " simple_rnn_1 (SimpleRNN)    (None, 256)               72960     \n",
            "                                                                 \n",
            " dense_1 (Dense)             (None, 10)                2570      \n",
            "                                                                 \n",
            " activation_1 (Activation)   (None, 10)                0         \n",
            "                                                                 \n",
            "=================================================================\n",
            "Total params: 75530 (295.04 KB)\n",
            "Trainable params: 75530 (295.04 KB)\n",
            "Non-trainable params: 0 (0.00 Byte)\n",
            "_________________________________________________________________\n"
          ]
        },
        {
          "output_type": "execute_result",
          "data": {
            "image/png": "[encoded data removed]",
            "text/plain": [
              "<IPython.core.display.Image object>"
            ]
          },
          "metadata": {},
          "execution_count": 9
        }
      ]
    },
    {
      "cell_type": "code",
      "source": [
        "# loss function for one-hot vector\n",
        "# use of sgd optimizer\n",
        "# accuracy is good metric for classification tasks\n",
        "model.compile(loss = 'categorical_crossentropy',\n",
        "               optimizer = 'sgd',\n",
        "               metrics = ['accuracy'])"
      ],
      "metadata": {
        "id": "Irqpc7bbV5yP"
      },
      "execution_count": null,
      "outputs": []
    },
    {
      "cell_type": "code",
      "source": [
        "# train the network\n",
        "model.fit(x_train, y_train, epochs = 20, batch_size = batch_size)"
      ],
      "metadata": {
        "colab": {
          "base_uri": "https://localhost:8080/"
        },
        "id": "smsj64cWW7-m",
        "outputId": "dd7996c4-a714-4dd8-ec0b-c09fe2c37223"
      },
      "execution_count": null,
      "outputs": [
        {
          "output_type": "stream",
          "name": "stdout",
          "text": [
            "Epoch 1/20\n",
            "469/469 [==============================] - 29s 58ms/step - loss: 0.7692 - accuracy: 0.7769\n",
            "Epoch 2/20\n",
            "469/469 [==============================] - 39s 84ms/step - loss: 0.3378 - accuracy: 0.9014\n",
            "Epoch 3/20\n",
            "469/469 [==============================] - 33s 71ms/step - loss: 0.2516 - accuracy: 0.9247\n",
            "Epoch 4/20\n",
            "469/469 [==============================] - 26s 56ms/step - loss: 0.2049 - accuracy: 0.9400\n",
            "Epoch 5/20\n",
            "469/469 [==============================] - 21s 46ms/step - loss: 0.1835 - accuracy: 0.9451\n",
            "Epoch 6/20\n",
            "469/469 [==============================] - 23s 49ms/step - loss: 0.1580 - accuracy: 0.9537\n",
            "Epoch 7/20\n",
            "469/469 [==============================] - 23s 48ms/step - loss: 0.1413 - accuracy: 0.9579\n",
            "Epoch 8/20\n",
            "469/469 [==============================] - 23s 48ms/step - loss: 0.1307 - accuracy: 0.9611\n",
            "Epoch 9/20\n",
            "469/469 [==============================] - 23s 48ms/step - loss: 0.1219 - accuracy: 0.9638\n",
            "Epoch 10/20\n",
            "469/469 [==============================] - 22s 46ms/step - loss: 0.1127 - accuracy: 0.9666\n",
            "Epoch 11/20\n",
            "469/469 [==============================] - 23s 49ms/step - loss: 0.1085 - accuracy: 0.9678\n",
            "Epoch 12/20\n",
            "469/469 [==============================] - 23s 49ms/step - loss: 0.0998 - accuracy: 0.9699\n",
            "Epoch 13/20\n",
            "469/469 [==============================] - 23s 48ms/step - loss: 0.0949 - accuracy: 0.9712\n",
            "Epoch 14/20\n",
            "469/469 [==============================] - 22s 46ms/step - loss: 0.0913 - accuracy: 0.9723\n",
            "Epoch 15/20\n",
            "469/469 [==============================] - 23s 48ms/step - loss: 0.0870 - accuracy: 0.9735\n",
            "Epoch 16/20\n",
            "469/469 [==============================] - 23s 48ms/step - loss: 0.0844 - accuracy: 0.9745\n",
            "Epoch 17/20\n",
            "469/469 [==============================] - 23s 48ms/step - loss: 0.0815 - accuracy: 0.9758\n",
            "Epoch 18/20\n",
            "469/469 [==============================] - 22s 48ms/step - loss: 0.0776 - accuracy: 0.9762\n",
            "Epoch 19/20\n",
            "469/469 [==============================] - 22s 47ms/step - loss: 0.0756 - accuracy: 0.9773\n",
            "Epoch 20/20\n",
            "469/469 [==============================] - 23s 48ms/step - loss: 0.0740 - accuracy: 0.9775\n"
          ]
        },
        {
          "output_type": "execute_result",
          "data": {
            "text/plain": [
              "<keras.src.callbacks.History at 0x7d26f6ae3850>"
            ]
          },
          "metadata": {},
          "execution_count": 12
        }
      ]
    },
    {
      "cell_type": "code",
      "source": [
        "_, acc = model.evaluate(x_test, y_test, batch_size = batch_size, verbose = 0)\n",
        "print(\"\\nTest accuracy: %.1f%%\" % (100.0 * acc))"
      ],
      "metadata": {
        "colab": {
          "base_uri": "https://localhost:8080/"
        },
        "id": "GwXZ2CoFXRGN",
        "outputId": "48eb6763-77ab-44b6-c124-9d1c592dbc3b"
      },
      "execution_count": null,
      "outputs": [
        {
          "output_type": "stream",
          "name": "stdout",
          "text": [
            "\n",
            "Test accuracy: 98.0%\n"
          ]
        }
      ]
    },
    {
      "cell_type": "code",
      "source": [],
      "metadata": {
        "id": "DHE_kXPqZNhh"
      },
      "execution_count": null,
      "outputs": []
    }
  ]
}